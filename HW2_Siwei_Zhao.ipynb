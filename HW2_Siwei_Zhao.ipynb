{
  "nbformat": 4,
  "nbformat_minor": 0,
  "metadata": {
    "kernelspec": {
      "display_name": "Python 3",
      "language": "python",
      "name": "python3"
    },
    "language_info": {
      "codemirror_mode": {
        "name": "ipython",
        "version": 3
      },
      "file_extension": ".py",
      "mimetype": "text/x-python",
      "name": "python",
      "nbconvert_exporter": "python",
      "pygments_lexer": "ipython3",
      "version": "3.7.4"
    },
    "colab": {
      "name": "HW2_Siwei - Copy.ipynb",
      "provenance": [],
      "collapsed_sections": []
    }
  },
  "cells": [
    {
      "cell_type": "markdown",
      "metadata": {
        "id": "9LOIZKv-GoLQ"
      },
      "source": [
        "# CS 6140 Machine Learning: Assignment - 2 (Total Points: 100)\n",
        "## Prof. Ahmad Uzair "
      ]
    },
    {
      "cell_type": "markdown",
      "metadata": {
        "id": "NVZaOYFbGoLS"
      },
      "source": [
        "### Q1.Naive Bayes for Document Classification (45 points)"
      ]
    },
    {
      "cell_type": "markdown",
      "metadata": {
        "id": "9Hu7Fsf8GoLS"
      },
      "source": [
        "### Datasets used for the problem:\n",
        "\n",
        "20Newgroup: Can be downloaded at http://qwone.com/~jason/20Newsgroups/20news-bydate-matlab.tgz The data is composed of six files, three of them contain the test data whilethe other three have the training data. Each row of the train.data and test.data files contain thed ata listed as (docId, wordId, count). The train.label and test.label files contain the labels for each document. The class names for each class are listed in *.map files. You can also download the vocabulary for the dataset from http://qwone.com/~jason/20Newsgroups/vocabulary.txt."
      ]
    },
    {
      "cell_type": "markdown",
      "metadata": {
        "id": "Fc4TSvBPGoLT"
      },
      "source": [
        "#### Multivariate Bernoulli Model: \n",
        "The Bernoulli model for document generation entails flipping|V|coins where|V|is the size of the vocabulary. We will model the documents in the twentywebgroups dataset using the same model, and since we have twenty classes we will beworking with a multinomial class prior distribution.\n",
        "\n",
        "#### Multinomial Event Model:\n",
        "In the multinomial event model each document corresponds to independent trials from a multinomial distribution over the vocabulary. This is also known as the unigram model. For this question you will implement the Bernoulli and Multinomial Naive Bayes models for document classification, and compare their performances.\n",
        "<i>Note: Write in your code only in the place holders where you are instructed to, replacing None.<i>"
      ]
    },
    {
      "cell_type": "code",
      "metadata": {
        "id": "l4ZX4QKDGoLT"
      },
      "source": [
        "# Do not change the code in this cell\n",
        "import pandas as pd\n",
        "import numpy as np\n",
        "import matplotlib.pyplot as plt\n",
        "import os\n",
        "%matplotlib notebook"
      ],
      "execution_count": null,
      "outputs": []
    },
    {
      "cell_type": "code",
      "metadata": {
        "id": "FhkVJzONGbAb"
      },
      "source": [
        "# Change it to inline to show the plots\n",
        "%matplotlib inline"
      ],
      "execution_count": null,
      "outputs": []
    },
    {
      "cell_type": "code",
      "metadata": {
        "colab": {
          "base_uri": "https://localhost:8080/"
        },
        "id": "Ambcn_inKFlw",
        "outputId": "35f0ddbe-2322-45ef-dfa9-516cb6370641"
      },
      "source": [
        "# Download the file\n",
        "!wget http://qwone.com/~jason/20Newsgroups/20news-bydate-matlab.tgz"
      ],
      "execution_count": null,
      "outputs": [
        {
          "output_type": "stream",
          "text": [
            "--2021-06-27 20:42:04--  http://qwone.com/~jason/20Newsgroups/20news-bydate-matlab.tgz\n",
            "Resolving qwone.com (qwone.com)... 173.48.209.137\n",
            "Connecting to qwone.com (qwone.com)|173.48.209.137|:80... connected.\n",
            "HTTP request sent, awaiting response... 200 OK\n",
            "Length: 7575962 (7.2M) [application/x-gzip]\n",
            "Saving to: ‘20news-bydate-matlab.tgz’\n",
            "\n",
            "20news-bydate-matla 100%[===================>]   7.22M  7.85MB/s    in 0.9s    \n",
            "\n",
            "2021-06-27 20:42:05 (7.85 MB/s) - ‘20news-bydate-matlab.tgz’ saved [7575962/7575962]\n",
            "\n"
          ],
          "name": "stdout"
        }
      ]
    },
    {
      "cell_type": "code",
      "metadata": {
        "colab": {
          "base_uri": "https://localhost:8080/"
        },
        "id": "fmaN5UkSOsxS",
        "outputId": "1e580726-365c-41ae-b2d8-9e254da05b5f"
      },
      "source": [
        "# unzip\n",
        "!tar zxvf 20news-bydate-matlab.tgz"
      ],
      "execution_count": null,
      "outputs": [
        {
          "output_type": "stream",
          "text": [
            "20news-bydate/matlab/\n",
            "20news-bydate/matlab/train.data\n",
            "20news-bydate/matlab/train.label\n",
            "20news-bydate/matlab/train.map\n",
            "20news-bydate/matlab/test.data\n",
            "20news-bydate/matlab/test.label\n",
            "20news-bydate/matlab/test.map\n"
          ],
          "name": "stdout"
        }
      ]
    },
    {
      "cell_type": "markdown",
      "metadata": {
        "id": "4a0KdrU6GoLU"
      },
      "source": [
        "### Here is the first look at your dataset and its feature columns"
      ]
    },
    {
      "cell_type": "code",
      "metadata": {
        "colab": {
          "base_uri": "https://localhost:8080/"
        },
        "id": "ui76IOXzGoLU",
        "outputId": "1ea596a8-d62e-40c7-ba23-31509954e72b"
      },
      "source": [
        "# Change DATA_DIR to the directory containing your data files\n",
        "\n",
        "DATA_DIR='20news-bydate/matlab'\n",
        "with open(os.path.join(DATA_DIR, 'train.data')) as f:\n",
        "    lines = f.readlines()\n",
        "for l in lines[:5]:\n",
        "    doc_id,word_id,word_freq = l.strip().split(' ')\n",
        "    print ('doc_id: {} word_id: {} word frequency: {}'.format(doc_id,word_id,word_freq))\n",
        "    \n",
        "with open(os.path.join(DATA_DIR, 'train.label')) as f:\n",
        "    lines = f.readlines()\n",
        "\n",
        "for idx,l in enumerate(lines[:5]):\n",
        "    label = l.strip()\n",
        "    ## Notice that doc_id starts at 1, not 0.\n",
        "    print ('doc_id: {} label: {}'.format(idx+1,label))\n"
      ],
      "execution_count": null,
      "outputs": [
        {
          "output_type": "stream",
          "text": [
            "doc_id: 1 word_id: 1 word frequency: 4\n",
            "doc_id: 1 word_id: 2 word frequency: 2\n",
            "doc_id: 1 word_id: 3 word frequency: 10\n",
            "doc_id: 1 word_id: 4 word frequency: 4\n",
            "doc_id: 1 word_id: 5 word frequency: 2\n",
            "doc_id: 1 label: 1\n",
            "doc_id: 2 label: 1\n",
            "doc_id: 3 label: 1\n",
            "doc_id: 4 label: 1\n",
            "doc_id: 5 label: 1\n"
          ],
          "name": "stdout"
        }
      ]
    },
    {
      "cell_type": "markdown",
      "metadata": {
        "id": "mGhi7113GoLU"
      },
      "source": [
        "### Task\n",
        "Create a word-frequency list across the **training** documents and sort it in descending order from highest frequency to lowest frequency.  \n",
        "We will be working with vocabulary sizes of |V| $\\in$ top{100,500,1000,2500,5000,7500,10000,12500,25000,50000, All}, where “All” is using the complete vocabulary"
      ]
    },
    {
      "cell_type": "code",
      "metadata": {
        "id": "YAxi0fW2GoLV"
      },
      "source": [
        "# Start code here\n",
        "# write a function to load the training data from the directory and create a word-frequency list that\n",
        "# is sorted in descending order from highest frequency to lowest frequency.\n",
        "\n",
        "def create_word_freq_list(train_data_dir):\n",
        "    '''\n",
        "    Your word frequency list shoule be a list of tuples\n",
        "    [ (word_1_id, word_1_frequence),(word_2_id, word_2_frequence),..., ]\n",
        "    that is SORTED by word frequency\n",
        "    '''\n",
        "    word_freq_dict = {}\n",
        "\n",
        "    with open(os.path.join(train_data_dir)) as f:\n",
        "        lines = f.readlines()\n",
        "    for l in lines:\n",
        "        doc_id, word_id, word_freq = l.strip().split(' ')\n",
        "        if word_id in word_freq_dict.keys():\n",
        "            word_freq_dict[word_id] += int(word_freq)\n",
        "        else:\n",
        "            word_freq_dict[word_id] = 1\n",
        "    word_freq_list = sorted(word_freq_dict.items(), key = lambda kv:(kv[1], kv[0]))\n",
        "    word_freq_list.reverse()\n",
        "    return word_freq_list\n",
        "\n",
        "# End code here"
      ],
      "execution_count": null,
      "outputs": []
    },
    {
      "cell_type": "markdown",
      "metadata": {
        "id": "dm4J28FiGoLV"
      },
      "source": [
        "### Task\n",
        "Write a class for both the Bernoulli Naive-Bayes model and the Multinomial event Naive-Bayes model. The class should fit the model to the training data and evaluate the accuracy on the test data. Keep in mind to restrict the vocabulary to the selected value of |V| for both the training and test sets. Use a simple smoothing model that assigns a default frequency of 1 to each word from the vocabulary."
      ]
    },
    {
      "cell_type": "code",
      "metadata": {
        "id": "dCYFejI2GoLV"
      },
      "source": [
        "# Start code here\n",
        "import pandas as pd\n",
        "import numpy as np\n",
        "import os\n",
        "\n",
        "class Naive_Bayes:\n",
        "    def __init__(self, vsize=None, word_freq_list=None,data_dir=None,model_type = 'bernoulli'):\n",
        "        \"\"\"\n",
        "        The init function is already written for you, we pick the top vsize words from the word_freq_list\n",
        "        and restrict our vocabulary to those words. We do so by constructing a vocab2idx dict that only contain \n",
        "        the chosen words. We also init the two parameters that will be learned during training, pi and theta.\n",
        "        \n",
        "        vsize: the vocabulary size we pick\n",
        "        word_freq_list word-frequency list\n",
        "        data_dir: directory for your data\n",
        "        model_type: either 'bernoulli' or 'multinomial'\n",
        "        \"\"\"\n",
        "        self.vocab = [int(w[0]) for w in word_freq_list[:vsize]]\n",
        "        self.vocab = np.array(self.vocab)\n",
        "        self.vocab_size = vsize\n",
        "        self.vocab2idx = {w:idx for idx,w in enumerate(self.vocab)}\n",
        "        self.data_dir=data_dir\n",
        "        self.model_type = model_type\n",
        "        \n",
        "        self.pi = None\n",
        "        self.theta = None\n",
        "        \n",
        "        \n",
        "    def _doc_vectorize(self,data_dir, model_type = 'bernoulli'):\n",
        "        \"\"\"\n",
        "        Function to read the documents data from the dir and \n",
        "        pre-process the documents into a matrix of the shape (num_of_docs, vocab_size)\n",
        "        Notice that the you need to modify your code for different \n",
        "        \n",
        "        data_dir: directory for your data\n",
        "        model_type: either 'bernoulli' or 'multinomial'\n",
        "        \n",
        "        return the document vectors in a matrix of the shape (num_of_docs, vocab_size)\n",
        "        \"\"\"\n",
        "        with open(os.path.join(data_dir)) as f:\n",
        "            lines = f.readlines()\n",
        "        data = []\n",
        "\n",
        "        for l in lines:\n",
        "            doc_id, word_id, word_freq = l.strip().split(' ')\n",
        "            data.append([int(doc_id), int(word_id), int(word_freq)])\n",
        "        data = np.array(data)\n",
        "        num_of_docs = np.unique(data[:, 0]).shape[0]\n",
        "        doc_vecs = np.zeros((num_of_docs, self.vocab_size))\n",
        "\n",
        "        if model_type == 'bernoulli':\n",
        "            for i in range(num_of_docs):\n",
        "                # The data of the document i\n",
        "                data_doc_i = data[np.where(data[:, 0] == i + 1)]\n",
        "                # All the word index of the document i\n",
        "                word_doc_i = data_doc_i[:, 1]\n",
        "                mask = np.in1d(self.vocab, word_doc_i)\n",
        "                # The word index of the vocab that in the document\n",
        "                vacab_index = np.where(mask)[0]\n",
        "                # Assign 1 to the word index in the doc_vecs matrix\n",
        "                doc_vecs[i, vacab_index] = 1\n",
        "        elif model_type == 'multivariate':\n",
        "            for i in range(num_of_docs):\n",
        "                # The data of the document i\n",
        "                data_doc_i = data[np.where(data[:, 0] == i + 1)]\n",
        "                # All the word index of the document i\n",
        "                word_doc_i = data_doc_i[:, 1]\n",
        "                mask = np.in1d(self.vocab, word_doc_i)\n",
        "                # The word index of the vocab that in the document\n",
        "                vacab_index = np.where(mask)[0].astype(int)\n",
        "                # Assign frequency of the word to the doc_vec\n",
        "                for j in vacab_index:\n",
        "                    # The index of the vocab that in the data_doc_i \n",
        "                    index_of_vocab = np.where(data_doc_i[:, 1] == self.vocab[j])\n",
        "                    doc_vecs[i, j] = data_doc_i[index_of_vocab, 2]\n",
        "                #doc_vecs[i, vacab_index] = data_doc_i[word_freq_index, 2]\n",
        "        doc_vecs = np.array(doc_vecs)\n",
        "        return doc_vecs\n",
        "        \n",
        "    def _label_vectorize(self, label_dir):\n",
        "        \"\"\"\n",
        "        Function to read the labels data from the dir and pre-process (one-hot encoding)\n",
        "        the labels into a matrix of the shape (num_of_docs, num_of_class)\n",
        "        \n",
        "        data_dir: directory for your data\n",
        "        \n",
        "        return the label vectors in a matrix of the shape (num_of_docs, num_of_classes)\n",
        "        \"\"\"\n",
        "        #For this problem, we already know num_of_classes = 20\n",
        "        num_of_classes = 20\n",
        "        with open(os.path.join(label_dir)) as f:\n",
        "            lines = f.readlines()\n",
        "        data = []\n",
        "        # Read the label\n",
        "        for l in lines:\n",
        "            data.append(int(l.strip()))\n",
        "        # Create the label_vecs matrix\n",
        "        label_vecs = np.zeros((len(lines), num_of_classes))\n",
        "\n",
        "        # Assign values to the corresponding point\n",
        "        for i in range(len(lines)):\n",
        "            label_vecs[i, data[i] - 1] = 1\n",
        "        label_vecs = np.array(label_vecs)\n",
        "        return label_vecs\n",
        "        \n",
        "    def fit(self,doc_vecs,label_vecs, model_type = 'bernoulli'):\n",
        "        \"\"\"\n",
        "        Function to learn the two parameters, pi and theta, using the doc-vectors and label-vectors\n",
        "        we got.\n",
        "        \n",
        "        doc_vecs:(num_of_docs, vocab_size)\n",
        "        label_vecs:(num_of_docs, num_of_classes)\n",
        "        return:None\n",
        "        \"\"\"\n",
        "        num_docs = doc_vecs.shape[0]\n",
        "        num_class = label_vecs.shape[1]\n",
        "\n",
        "        if model_type == 'bernoulli':\n",
        "            self.pi = np.zeros(num_class)\n",
        "            self.theta = np.dot(doc_vecs.T, label_vecs) + 1\n",
        "            for i in range(num_class):\n",
        "                # class document size, for example, class 1 has 480 documents\n",
        "                class_doc_size = np.where(label_vecs[:, i] == 1)[0].shape[0]\n",
        "                self.theta[:, i] /= (class_doc_size + self.vocab_size)\n",
        "                self.pi[i] = class_doc_size / num_docs\n",
        "        elif model_type == 'multivariate':\n",
        "            self.pi = np.zeros(num_class)\n",
        "            self.theta = np.dot(doc_vecs.T, label_vecs) + 1\n",
        "            # Get the class word size\n",
        "            class_word_size = {}\n",
        "            for k in range(num_class):\n",
        "                class_word_size[k] = sum(sum(doc_vecs[np.where(label_vecs[:, k] == 1)[0], :]))\n",
        "            # Calculate theta and pi\n",
        "            for i in range(num_class):\n",
        "                # class document size, for example, class 1 has 480 documents\n",
        "                class_doc_size = np.where(label_vecs[:, i] == 1)[0].shape[0]\n",
        "                self.theta[:, i] /= (class_word_size[i] + self.vocab_size)\n",
        "                self.pi[i] = class_doc_size / num_docs\n",
        "   \n",
        "    def predict(self,doc_vecs):\n",
        "        \"\"\"\n",
        "        Function to make predictions using the two learned parameters.\n",
        "        doc_vecs:(num_of_docs, vocab_size)\n",
        "        \n",
        "        return: predictions (num_of_docs,), each element is between 0 and num_of_classes (20)\n",
        "        \"\"\"\n",
        "        log_theta = np.log(self.theta)\n",
        "\n",
        "        prob = np.dot(doc_vecs, log_theta)\n",
        "        for i in range(self.pi.shape[0]):\n",
        "            prob[:, i] = prob[:, i] + np.log(self.pi[i])\n",
        "\n",
        "        prediction = prob.argmax(axis=1)\n",
        "        return prediction\n",
        "        \n",
        "    \n",
        "    def train(self):\n",
        "        \"\"\"\n",
        "        This function should:\n",
        "            1. Load the training data and labels\n",
        "            2. vectorize the data and the labels\n",
        "            3. fit the parameters\n",
        "        \"\"\"\n",
        "        train_data_dir = os.path.join(self.data_dir, 'test.data')\n",
        "        train_doc_vecs = self._doc_vectorize(train_data_dir, self.model_type)\n",
        "        train_label_dir = os.path.join(self.data_dir, 'test.label')\n",
        "        train_label_vecs = self._label_vectorize(train_label_dir)\n",
        "        self.vocab_size = train_doc_vecs.shape[1]\n",
        "        self.fit(train_doc_vecs, train_label_vecs, model_type=self.model_type)\n",
        "    \n",
        "    def test(self):\n",
        "        \"\"\"\n",
        "        This function should:\n",
        "            1. Load the test data and labels\n",
        "            2. vectorize the data and the labels\n",
        "            3. apply the (already trained) model to the test data and get predictions\n",
        "            4. calculate and return the accuracy of the predictions\n",
        "        \"\"\"\n",
        "        # Read test doc data\n",
        "        test_data_dir = os.path.join(self.data_dir, 'train.data')\n",
        "        test_doc_vecs = self._doc_vectorize(test_data_dir, self.model_type)\n",
        "        # Read label data\n",
        "        test_labrl_dir = os.path.join(self.data_dir, 'train.label')\n",
        "        test_labels = self._label_vectorize(test_labrl_dir)\n",
        "        test_labels = test_labels.argmax(axis=1)\n",
        "        test_predictions = self.predict(test_doc_vecs)\n",
        "        acc = np.sum(test_labels == test_predictions) / len(test_labels)\n",
        "        #print(acc)\n",
        "        return acc\n",
        "\n",
        "#End code here"
      ],
      "execution_count": null,
      "outputs": []
    },
    {
      "cell_type": "markdown",
      "metadata": {
        "id": "mhq8HLUUGoLY"
      },
      "source": [
        "### Evaluating the model"
      ]
    },
    {
      "cell_type": "code",
      "metadata": {
        "id": "ZtNECZa2GoLZ",
        "colab": {
          "base_uri": "https://localhost:8080/"
        },
        "outputId": "9f67335b-3cd0-456c-db85-2d59453896d0"
      },
      "source": [
        "# Set your data_dir\n",
        "DATA_DIR='20news-bydate/matlab'\n",
        "# Do not change the code below\n",
        "train_data_dir = os.path.join(DATA_DIR, 'train.data')\n",
        "word_freq_list = create_word_freq_list(train_data_dir=train_data_dir)\n",
        "acc_bernoulli,acc_multi = [],[]\n",
        "recall_bernoulli,recall_multi = [],[]\n",
        "precision_bernoulli,precision_multi = [],[]\n",
        "vsizes = [100,500,1000,2000,5000,20000]\n",
        "print('Bernoulli Model:')\n",
        "for vsize in vsizes:\n",
        "    model_Bernoulli = Naive_Bayes(vsize=vsize, word_freq_list=word_freq_list,data_dir=DATA_DIR,model_type='bernoulli')\n",
        "    model_Bernoulli.train()\n",
        "    acc = model_Bernoulli.test()\n",
        "    acc_bernoulli.append(acc)\n",
        "    print('Vocabulary size: ' + str(vsize) + '\\t Accuracy: ' + str(acc))\n",
        "\n",
        "print('MultiVariate Model:')\n",
        "for vsize in vsizes:\n",
        "    model_MultiVariate = Naive_Bayes(vsize=vsize, word_freq_list=word_freq_list,data_dir=DATA_DIR,model_type='multivariate')\n",
        "    model_MultiVariate.train()\n",
        "    acc = model_MultiVariate.test()\n",
        "    acc_multi.append(acc)\n",
        "    print('Vocabulary size: ' + str(vsize) + '\\t Accuracy: ' + str(acc))\n",
        "\n"
      ],
      "execution_count": null,
      "outputs": [
        {
          "output_type": "stream",
          "text": [
            "Bernoulli Model:\n",
            "Vocabulary size: 100\t Accuracy: 0.07445203656047564\n",
            "Vocabulary size: 500\t Accuracy: 0.173041086165587\n",
            "Vocabulary size: 1000\t Accuracy: 0.2621350607862277\n",
            "Vocabulary size: 2000\t Accuracy: 0.3604578933356997\n",
            "Vocabulary size: 5000\t Accuracy: 0.47697222468719497\n",
            "Vocabulary size: 20000\t Accuracy: 0.5737864939213773\n",
            "MultiVariate Model:\n",
            "Vocabulary size: 100\t Accuracy: 0.2383530038157778\n",
            "Vocabulary size: 500\t Accuracy: 0.5000443695092732\n",
            "Vocabulary size: 1000\t Accuracy: 0.6158487887123968\n",
            "Vocabulary size: 2000\t Accuracy: 0.6800070991214837\n",
            "Vocabulary size: 5000\t Accuracy: 0.7420356730854557\n",
            "Vocabulary size: 20000\t Accuracy: 0.7814357973200816\n"
          ],
          "name": "stdout"
        }
      ]
    },
    {
      "cell_type": "markdown",
      "metadata": {
        "id": "D82y36aJGoLa"
      },
      "source": [
        "### Evaluation\n",
        "Plot the accuracy, recall and precision following metrics of the two models versus the vocabulary size. Create three plots for each performance metric."
      ]
    },
    {
      "cell_type": "code",
      "metadata": {
        "id": "43LjGyIxGoLa",
        "colab": {
          "base_uri": "https://localhost:8080/",
          "height": 264
        },
        "outputId": "46499cb7-bb34-4422-e41d-4521f6ff33a1"
      },
      "source": [
        "# Do not change the code in this cell\n",
        "plt.figure()\n",
        "plt.plot(vsizes, acc_bernoulli, label = 'Bernoulli Model')\n",
        "plt.plot(vsizes, acc_multi, label = 'Multinomial Event Model')\n",
        "plt.legend()\n",
        "plt.show()"
      ],
      "execution_count": null,
      "outputs": [
        {
          "output_type": "display_data",
          "data": {
            "image/png": "[encoded data removed]",
            "text/plain": [
              "<Figure size 432x288 with 1 Axes>"
            ]
          },
          "metadata": {
            "tags": [],
            "needs_background": "light"
          }
        }
      ]
    },
    {
      "cell_type": "markdown",
      "metadata": {
        "id": "Q6xr7CCyGoLa"
      },
      "source": [
        "### Q2. Logistic Regression  (35 points)\n",
        "In this problem you will be applying logistic regression to the breastcancer dataset for binary classification:\n",
        "\n",
        "**Breast Cancer**:  this dataset is aimed at developing classifiers that can distinguish be-tween malignant and benign tumors in breast cancer.   There are thirty real valued features and 569 instances.\n"
      ]
    },
    {
      "cell_type": "markdown",
      "metadata": {
        "id": "N8XngkyfGoLa"
      },
      "source": [
        "### Task\n",
        "Implement logistic regression using gradient descent. Do ten-fold cross validation and find the best step-size $\\alpha$, using accuracy as the metric. Finally, use the best $\\alpha$ you get and re-train the model on the full training data, and report the accuracy, precision and recall.\n",
        "\n",
        "\n"
      ]
    },
    {
      "cell_type": "markdown",
      "metadata": {
        "id": "rlASAFOHGoLb"
      },
      "source": [
        "### A first look at the dataset"
      ]
    },
    {
      "cell_type": "code",
      "metadata": {
        "id": "GvgJ8-RkGoLb",
        "colab": {
          "base_uri": "https://localhost:8080/",
          "height": 222
        },
        "outputId": "2b59df00-1b53-452e-c2a1-5dd191886a74"
      },
      "source": [
        "DATA_DIR='breastcancer.csv'\n",
        "df = pd.read_csv(DATA_DIR, header=None)\n",
        "df.head()"
      ],
      "execution_count": null,
      "outputs": [
        {
          "output_type": "execute_result",
          "data": {
            "text/html": [
              "<div>\n",
              "<style scoped>\n",
              "    .dataframe tbody tr th:only-of-type {\n",
              "        vertical-align: middle;\n",
              "    }\n",
              "\n",
              "    .dataframe tbody tr th {\n",
              "        vertical-align: top;\n",
              "    }\n",
              "\n",
              "    .dataframe thead th {\n",
              "        text-align: right;\n",
              "    }\n",
              "</style>\n",
              "<table border=\"1\" class=\"dataframe\">\n",
              "  <thead>\n",
              "    <tr style=\"text-align: right;\">\n",
              "      <th></th>\n",
              "      <th>0</th>\n",
              "      <th>1</th>\n",
              "      <th>2</th>\n",
              "      <th>3</th>\n",
              "      <th>4</th>\n",
              "      <th>5</th>\n",
              "      <th>6</th>\n",
              "      <th>7</th>\n",
              "      <th>8</th>\n",
              "      <th>9</th>\n",
              "      <th>10</th>\n",
              "      <th>11</th>\n",
              "      <th>12</th>\n",
              "      <th>13</th>\n",
              "      <th>14</th>\n",
              "      <th>15</th>\n",
              "      <th>16</th>\n",
              "      <th>17</th>\n",
              "      <th>18</th>\n",
              "      <th>19</th>\n",
              "      <th>20</th>\n",
              "      <th>21</th>\n",
              "      <th>22</th>\n",
              "      <th>23</th>\n",
              "      <th>24</th>\n",
              "      <th>25</th>\n",
              "      <th>26</th>\n",
              "      <th>27</th>\n",
              "      <th>28</th>\n",
              "      <th>29</th>\n",
              "      <th>30</th>\n",
              "    </tr>\n",
              "  </thead>\n",
              "  <tbody>\n",
              "    <tr>\n",
              "      <th>0</th>\n",
              "      <td>17.99</td>\n",
              "      <td>10.38</td>\n",
              "      <td>122.80</td>\n",
              "      <td>1001.0</td>\n",
              "      <td>0.11840</td>\n",
              "      <td>0.27760</td>\n",
              "      <td>0.3001</td>\n",
              "      <td>0.14710</td>\n",
              "      <td>0.2419</td>\n",
              "      <td>0.07871</td>\n",
              "      <td>1.0950</td>\n",
              "      <td>0.9053</td>\n",
              "      <td>8.589</td>\n",
              "      <td>153.40</td>\n",
              "      <td>0.006399</td>\n",
              "      <td>0.04904</td>\n",
              "      <td>0.05373</td>\n",
              "      <td>0.01587</td>\n",
              "      <td>0.03003</td>\n",
              "      <td>0.006193</td>\n",
              "      <td>25.38</td>\n",
              "      <td>17.33</td>\n",
              "      <td>184.60</td>\n",
              "      <td>2019.0</td>\n",
              "      <td>0.1622</td>\n",
              "      <td>0.6656</td>\n",
              "      <td>0.7119</td>\n",
              "      <td>0.2654</td>\n",
              "      <td>0.4601</td>\n",
              "      <td>0.11890</td>\n",
              "      <td>1</td>\n",
              "    </tr>\n",
              "    <tr>\n",
              "      <th>1</th>\n",
              "      <td>20.57</td>\n",
              "      <td>17.77</td>\n",
              "      <td>132.90</td>\n",
              "      <td>1326.0</td>\n",
              "      <td>0.08474</td>\n",
              "      <td>0.07864</td>\n",
              "      <td>0.0869</td>\n",
              "      <td>0.07017</td>\n",
              "      <td>0.1812</td>\n",
              "      <td>0.05667</td>\n",
              "      <td>0.5435</td>\n",
              "      <td>0.7339</td>\n",
              "      <td>3.398</td>\n",
              "      <td>74.08</td>\n",
              "      <td>0.005225</td>\n",
              "      <td>0.01308</td>\n",
              "      <td>0.01860</td>\n",
              "      <td>0.01340</td>\n",
              "      <td>0.01389</td>\n",
              "      <td>0.003532</td>\n",
              "      <td>24.99</td>\n",
              "      <td>23.41</td>\n",
              "      <td>158.80</td>\n",
              "      <td>1956.0</td>\n",
              "      <td>0.1238</td>\n",
              "      <td>0.1866</td>\n",
              "      <td>0.2416</td>\n",
              "      <td>0.1860</td>\n",
              "      <td>0.2750</td>\n",
              "      <td>0.08902</td>\n",
              "      <td>1</td>\n",
              "    </tr>\n",
              "    <tr>\n",
              "      <th>2</th>\n",
              "      <td>19.69</td>\n",
              "      <td>21.25</td>\n",
              "      <td>130.00</td>\n",
              "      <td>1203.0</td>\n",
              "      <td>0.10960</td>\n",
              "      <td>0.15990</td>\n",
              "      <td>0.1974</td>\n",
              "      <td>0.12790</td>\n",
              "      <td>0.2069</td>\n",
              "      <td>0.05999</td>\n",
              "      <td>0.7456</td>\n",
              "      <td>0.7869</td>\n",
              "      <td>4.585</td>\n",
              "      <td>94.03</td>\n",
              "      <td>0.006150</td>\n",
              "      <td>0.04006</td>\n",
              "      <td>0.03832</td>\n",
              "      <td>0.02058</td>\n",
              "      <td>0.02250</td>\n",
              "      <td>0.004571</td>\n",
              "      <td>23.57</td>\n",
              "      <td>25.53</td>\n",
              "      <td>152.50</td>\n",
              "      <td>1709.0</td>\n",
              "      <td>0.1444</td>\n",
              "      <td>0.4245</td>\n",
              "      <td>0.4504</td>\n",
              "      <td>0.2430</td>\n",
              "      <td>0.3613</td>\n",
              "      <td>0.08758</td>\n",
              "      <td>1</td>\n",
              "    </tr>\n",
              "    <tr>\n",
              "      <th>3</th>\n",
              "      <td>11.42</td>\n",
              "      <td>20.38</td>\n",
              "      <td>77.58</td>\n",
              "      <td>386.1</td>\n",
              "      <td>0.14250</td>\n",
              "      <td>0.28390</td>\n",
              "      <td>0.2414</td>\n",
              "      <td>0.10520</td>\n",
              "      <td>0.2597</td>\n",
              "      <td>0.09744</td>\n",
              "      <td>0.4956</td>\n",
              "      <td>1.1560</td>\n",
              "      <td>3.445</td>\n",
              "      <td>27.23</td>\n",
              "      <td>0.009110</td>\n",
              "      <td>0.07458</td>\n",
              "      <td>0.05661</td>\n",
              "      <td>0.01867</td>\n",
              "      <td>0.05963</td>\n",
              "      <td>0.009208</td>\n",
              "      <td>14.91</td>\n",
              "      <td>26.50</td>\n",
              "      <td>98.87</td>\n",
              "      <td>567.7</td>\n",
              "      <td>0.2098</td>\n",
              "      <td>0.8663</td>\n",
              "      <td>0.6869</td>\n",
              "      <td>0.2575</td>\n",
              "      <td>0.6638</td>\n",
              "      <td>0.17300</td>\n",
              "      <td>1</td>\n",
              "    </tr>\n",
              "    <tr>\n",
              "      <th>4</th>\n",
              "      <td>20.29</td>\n",
              "      <td>14.34</td>\n",
              "      <td>135.10</td>\n",
              "      <td>1297.0</td>\n",
              "      <td>0.10030</td>\n",
              "      <td>0.13280</td>\n",
              "      <td>0.1980</td>\n",
              "      <td>0.10430</td>\n",
              "      <td>0.1809</td>\n",
              "      <td>0.05883</td>\n",
              "      <td>0.7572</td>\n",
              "      <td>0.7813</td>\n",
              "      <td>5.438</td>\n",
              "      <td>94.44</td>\n",
              "      <td>0.011490</td>\n",
              "      <td>0.02461</td>\n",
              "      <td>0.05688</td>\n",
              "      <td>0.01885</td>\n",
              "      <td>0.01756</td>\n",
              "      <td>0.005115</td>\n",
              "      <td>22.54</td>\n",
              "      <td>16.67</td>\n",
              "      <td>152.20</td>\n",
              "      <td>1575.0</td>\n",
              "      <td>0.1374</td>\n",
              "      <td>0.2050</td>\n",
              "      <td>0.4000</td>\n",
              "      <td>0.1625</td>\n",
              "      <td>0.2364</td>\n",
              "      <td>0.07678</td>\n",
              "      <td>1</td>\n",
              "    </tr>\n",
              "  </tbody>\n",
              "</table>\n",
              "</div>"
            ],
            "text/plain": [
              "      0      1       2       3        4   ...      26      27      28       29  30\n",
              "0  17.99  10.38  122.80  1001.0  0.11840  ...  0.7119  0.2654  0.4601  0.11890   1\n",
              "1  20.57  17.77  132.90  1326.0  0.08474  ...  0.2416  0.1860  0.2750  0.08902   1\n",
              "2  19.69  21.25  130.00  1203.0  0.10960  ...  0.4504  0.2430  0.3613  0.08758   1\n",
              "3  11.42  20.38   77.58   386.1  0.14250  ...  0.6869  0.2575  0.6638  0.17300   1\n",
              "4  20.29  14.34  135.10  1297.0  0.10030  ...  0.4000  0.1625  0.2364  0.07678   1\n",
              "\n",
              "[5 rows x 31 columns]"
            ]
          },
          "metadata": {
            "tags": []
          },
          "execution_count": 62
        }
      ]
    },
    {
      "cell_type": "code",
      "metadata": {
        "id": "Dm3v7SzhGoLb"
      },
      "source": [
        "### Implement the loss function for logistic regression\n",
        "def compute_cost(ip, op, params):\n",
        "    \"\"\"\n",
        "    Cost function in linear regression where the cost is calculated\n",
        "    ip: input variables\n",
        "    op: output variables\n",
        "    params: corresponding parameters\n",
        "    Returns cost\n",
        "    \"\"\"\n",
        "    num_samples = len(op)\n",
        "    cost_sum = 0\n",
        "    for x, y in zip(ip, op):\n",
        "        sig_WX = sigmoid(sum(params * x))\n",
        "        if sig_WX == 1 or sig_WX == 0:\n",
        "            cost_sum += int(y == sig_WX)\n",
        "        else:\n",
        "            cost_sum += y * np.log(sig_WX) + (1 - y) * np.log(1 - sig_WX)\n",
        "\n",
        "    cost = -cost_sum / num_samples\n",
        "    # End code here\n",
        "    return cost"
      ],
      "execution_count": null,
      "outputs": []
    },
    {
      "cell_type": "code",
      "metadata": {
        "id": "Ql7rdMIPGoLb"
      },
      "source": [
        "#the load_data function is written for you\n",
        "def load_data(data_dir):\n",
        "    df = pd.read_csv(data_dir)\n",
        "    data = np.asarray(df.iloc[:, :-1])\n",
        "    labels = np.asarray(df.iloc[:, -1])\n",
        "    \n",
        "    return data, labels"
      ],
      "execution_count": null,
      "outputs": []
    },
    {
      "cell_type": "code",
      "metadata": {
        "id": "TcV0WvA_GoLc"
      },
      "source": [
        "### Implement the sigmoid function \n",
        "def sigmoid(z):\n",
        "    return 1 / (1 + np.exp(-z))"
      ],
      "execution_count": null,
      "outputs": []
    },
    {
      "cell_type": "markdown",
      "metadata": {
        "id": "As4FE99sGoLc"
      },
      "source": [
        "\n",
        "### Batch gradient descent\n",
        "Algorithm can be given as follows:\n",
        "\n",
        "```for j in 0 -> max_iteration: \n",
        "    for (x_batch,y_batch) in batches: \n",
        "        calculate gradient using (x_batch,y_batch)\n",
        "        update theta\n",
        "```"
      ]
    },
    {
      "cell_type": "code",
      "metadata": {
        "id": "lg5VudO1GoLc"
      },
      "source": [
        "def logistic_regression_using_batch_gradient_descent(ip, op, params, alpha, max_iter, batch_size = 1):\n",
        "#     print ('ip.shape ',ip.shape)\n",
        "#     print ('op.shape ',op.shape)\n",
        "#     print ('params.shape ',params.shape)\n",
        "    \"\"\"\n",
        "    Compute the params for linear regression using batch gradient descent\n",
        "    ip: input variables\n",
        "    op: output variables\n",
        "    params: corresponding parameters\n",
        "    alpha: learning rate\n",
        "    max_iter: maximum number of iterations\n",
        "    batch_size: size of mini-batches\n",
        "    Returns parameters, cost, params_store\n",
        "    \"\"\" \n",
        "    # initialize iteration, number of samples, cost\n",
        "    iteration = 0\n",
        "    num_samples = len(ip)\n",
        "    cost = np.zeros(max_iter)\n",
        "    \n",
        "    # batchify the data into mini-batches\n",
        "    num_batch = int(num_samples / batch_size)\n",
        "    batches = []\n",
        "    for i in range(num_batch - 1):\n",
        "        x_batch = ip[i*batch_size:(i + 1)*batch_size]\n",
        "        y_batch = op[i*batch_size:(i + 1)*batch_size]\n",
        "        batches.append((np.asarray(x_batch), np.asarray(y_batch)))\n",
        "    i += 1\n",
        "    x_batch = ip[i * batch_size:len(ip)]\n",
        "    y_batch = op[i * batch_size:len(op)]\n",
        "    batches.append((np.asarray(x_batch), np.asarray(y_batch)))\n",
        "\n",
        "    # Compute the cost and store the params for the corresponding cost\n",
        "    while iteration < max_iter:\n",
        "        cost[iteration] = compute_cost(ip, op, params)\n",
        "        \n",
        "        for x_batch,y_batch in batches:\n",
        "            O_minus_y = np.array([sigmoid(sum(params * x_batch[i])) for i in range(len(x_batch))]) - y_batch    \n",
        "            gradient = np.dot(x_batch.T, O_minus_y)\n",
        "            params -= alpha * gradient/len(y_batch)\n",
        "            \n",
        "        iteration += 1\n",
        "    \n",
        "    return params, cost"
      ],
      "execution_count": null,
      "outputs": []
    },
    {
      "cell_type": "code",
      "metadata": {
        "id": "CWJmHhe-GoLc"
      },
      "source": [
        "def evaluate(x_test, y_test,params):\n",
        "    \"\"\"\n",
        "    Evaluate the model, return the accuracy, precision and recall\n",
        "    x_test: input variables \n",
        "    y_test: labels\n",
        "    params: corresponding parameters\n",
        "    \"\"\" \n",
        "    y_predict = []\n",
        "    true_positive = 0\n",
        "    #false_positive = 0\n",
        "    #false_negative = 0\n",
        "    # sum(params * x_test[i]) > 0 means W_T * x > 0 and sigmoid(W_T * x) > 0.5, \n",
        "    # which means the predict is 1\n",
        "    for i in range(x_test.shape[0]):\n",
        "        y_predict.append( int(sum(params * x_test[i]) > 0))\n",
        "        if int(sum(params * x_test[i]) > 0) == 1 and y_test[i] == 1:\n",
        "          true_positive += 1\n",
        "        #if int(sum(params * x_test[i]) > 0) == 1 and y_test[i] == 0:\n",
        "        #  false_positive += 1\n",
        "        #if int(sum(params * x_test[i]) > 0) == 0 and y_test[i] == 1:\n",
        "        #  false_negative += 1\n",
        "\n",
        "    acc = np.sum(y_predict == y_test) / y_test.shape[0]\n",
        "\n",
        "    #precision = true_positive / (true_positive + false_positive)\n",
        "    #recall = true_positive / (true_positive + false_negative)\n",
        "    precision = true_positive / sum(y_predict)\n",
        "    recall = true_positive / sum(y_test)\n",
        "    return acc, precision, recall\n",
        "            \n"
      ],
      "execution_count": null,
      "outputs": []
    },
    {
      "cell_type": "code",
      "metadata": {
        "id": "JKSqdRToGoLc"
      },
      "source": [
        "def cross_validation(x_train_full, y_train_full, k, alpha, max_iter, batch_size):\n",
        "    \"\"\"\n",
        "    For a given set of hyper-parameters, do k-fold cross_validation, return the average accuracy.\n",
        "    x_train_full: the full training data\n",
        "    y_test: the full training labels\n",
        "    k: number of folds to divide the whole traiing set\n",
        "    alpha: step-size for Gradient Descent\n",
        "    max_iter: maximum number of iterations\n",
        "    batch_size: size of mini-batches\n",
        "    Return the average accuracy\n",
        "    \"\"\"\n",
        "    #split the data into k-folds\n",
        "    all_accs = []\n",
        "    num_samples = y_train_full.shape[0]\n",
        "    fold_size = int(y_train_full.shape[0] / k)\n",
        "    # Shuffle the data\n",
        "    shuffler = np.random.permutation(len(y_train_full))\n",
        "    x_train_shuffled = x_train_full[shuffler]\n",
        "    y_train_shuffled = y_train_full[shuffler]\n",
        "    # Generate fold index\n",
        "    fold_idx = {}\n",
        "    for i in range(k - 1):\n",
        "        fold_idx[i] = np.array(range(i * fold_size, i * fold_size + fold_size))\n",
        "    i += 1\n",
        "    fold_idx[i] = np.array(range(i * fold_size, x_train_shuffled.shape[0]))\n",
        "\n",
        "    for idx in range(k):\n",
        "        ###during each iteration, we hold out one hold for evaluation, and use the rest as training data\n",
        "        train_index = np.delete(np.array(range(x_train_shuffled.shape[0])), fold_idx[idx])\n",
        "        x_train = x_train_shuffled[train_index]\n",
        "        y_train = y_train_shuffled[train_index]\n",
        "        x_eval = x_train_shuffled[fold_idx[idx]]\n",
        "        y_eval = y_train_shuffled[fold_idx[idx]]\n",
        "        # train the data\n",
        "        #initial_params_guess = np.ones(x_train_full.shape[1]) / 1000\n",
        "        initial_params_guess = np.zeros(x_train_full.shape[1])\n",
        "        params, cost = logistic_regression_using_batch_gradient_descent(x_train, y_train, initial_params_guess,\n",
        "                                                                  alpha, max_iter, batch_size)\n",
        "        #After figuring out the training and eval data, train you model and evaluate it to get the accuracy.\n",
        "        acc, precision, recall = evaluate(x_eval, y_eval, params)\n",
        "        all_accs.append(acc)\n",
        "    average_acc = sum(all_accs)/k\n",
        "    return average_acc"
      ],
      "execution_count": null,
      "outputs": []
    },
    {
      "cell_type": "markdown",
      "metadata": {
        "id": "83_NpaeOGoLd"
      },
      "source": [
        "### Cross-validation to find the best alpha"
      ]
    },
    {
      "cell_type": "code",
      "metadata": {
        "id": "-pW1pwzhGoLd",
        "colab": {
          "base_uri": "https://localhost:8080/"
        },
        "outputId": "f5df36e8-1785-476f-b667-59c509a6bc39"
      },
      "source": [
        "#Set your DATA_DIR\n",
        "DATA_DIR='breastcancer.csv'\n",
        "# Do not change the code below\n",
        "# Train the model\n",
        "from sklearn.model_selection import train_test_split\n",
        "#reserve the test data, do not use them for cross-validation!\n",
        "data, labels = load_data(DATA_DIR)\n",
        "x_train, x_test, y_train, y_test = train_test_split(data, labels, test_size=0.20)\n",
        "x_train = np.append(x_train, np.ones((x_train.shape[0],1)), axis=1)\n",
        "x_test = np.append(x_test, np.ones((x_test.shape[0],1)), axis=1)\n",
        "\n",
        "## For each possible value of alpha, do cross-validation\n",
        "##compare the average accuracies and choose the best alpha\n",
        "alphas = [5e-4,1e-4,5e-3,1e-3,5e-2]\n",
        "max_iter = 200\n",
        "batch_size =16\n",
        "cv_results =[]\n",
        "for alpha in alphas:\n",
        "    average_acc = cross_validation(x_train, y_train, 10, alpha, max_iter, batch_size)\n",
        "    cv_results.append([average_acc,alpha])\n",
        "cv_results.sort()\n",
        "print (cv_results)\n",
        "best_alpha = cv_results[-1][1]\n",
        "\n"
      ],
      "execution_count": null,
      "outputs": [
        {
          "output_type": "stream",
          "text": [
            "/usr/local/lib/python3.7/dist-packages/ipykernel_launcher.py:3: RuntimeWarning: overflow encountered in exp\n",
            "  This is separate from the ipykernel package so we can avoid doing imports until\n"
          ],
          "name": "stderr"
        },
        {
          "output_type": "stream",
          "text": [
            "[[0.7599546485260771, 0.005], [0.8649886621315194, 0.05], [0.9018140589569162, 0.001], [0.9159183673469388, 0.0005], [0.9227664399092971, 0.0001]]\n"
          ],
          "name": "stdout"
        }
      ]
    },
    {
      "cell_type": "markdown",
      "metadata": {
        "id": "0v1HhMzZGoLd"
      },
      "source": [
        "### Re-train on the whole training set with the best alpha, report results on test data.\n"
      ]
    },
    {
      "cell_type": "code",
      "metadata": {
        "id": "PQySghyIGoLd",
        "colab": {
          "base_uri": "https://localhost:8080/"
        },
        "outputId": "245f9119-d9a5-4be9-9687-d81890a8d6a0"
      },
      "source": [
        "# Do not change the code in this cell\n",
        "# Re-train the model using the best alpha you picked\n",
        "# Report the final results\n",
        "\n",
        "params = np.zeros(x_train.shape[1])\n",
        "params, costs =\\\n",
        "    logistic_regression_using_batch_gradient_descent(x_train, y_train, params, best_alpha, max_iter, batch_size=10)\n",
        "final_acc,final_precision,final_recall = evaluate(x_test, y_test,params)\n",
        "print ('Final results : Accuracy:{:.2f}, Precision:{:.2f},Recal:{:.2f}'.format(final_acc,final_precision,final_recall))"
      ],
      "execution_count": null,
      "outputs": [
        {
          "output_type": "stream",
          "text": [
            "Final results : Accuracy:0.92, Precision:0.94,Recal:0.81\n"
          ],
          "name": "stdout"
        }
      ]
    },
    {
      "cell_type": "code",
      "metadata": {
        "id": "YJWoRmgUGoLd",
        "colab": {
          "base_uri": "https://localhost:8080/",
          "height": 282
        },
        "outputId": "0c979230-d66e-4d9c-add0-aa04ff0cfd42"
      },
      "source": [
        "plt.plot(costs)"
      ],
      "execution_count": null,
      "outputs": [
        {
          "output_type": "execute_result",
          "data": {
            "text/plain": [
              "[<matplotlib.lines.Line2D at 0x7fb054dde250>]"
            ]
          },
          "metadata": {
            "tags": []
          },
          "execution_count": 78
        },
        {
          "output_type": "display_data",
          "data": {
            "image/png": "[encoded data removed]",
            "text/plain": [
              "<Figure size 432x288 with 1 Axes>"
            ]
          },
          "metadata": {
            "tags": [],
            "needs_background": "light"
          }
        }
      ]
    },
    {
      "cell_type": "markdown",
      "metadata": {
        "id": "Ax22cI1zGoLe"
      },
      "source": [
        "### Q3. Theory (10 marks)\n",
        " The sigmoid function is given as: \n",
        "    $$\\sigma(a)=\\frac{1}{1+e^{-a}}$$\n",
        " Solve the following questions.\n",
        " \n",
        " **a.** Compute $\\ \\frac{d\\sigma(a)}{dx} $ when $\\ a = w^Tx $, where $\\ w, x \\hspace{2 pt} \\in \\hspace{2 pt} \\mathbb{R}^m $\n"
      ]
    },
    {
      "cell_type": "markdown",
      "metadata": {
        "id": "V4dmXctrMQuk"
      },
      "source": [
        "**a**. Since $\\sigma(a)=\\frac{1}{1+e^{-a}}$ and $a=w^Tx$, so $\\sigma(a)=\\frac{1}{1+e^{-w^Tx}}$\n",
        "\n",
        "$$\\frac{d \\sigma(a)}{dx} = \\frac{d(\\frac{1}{1+e^{-w^Tx}})}{dx}$$\n",
        "\n",
        "$$\\frac{d \\sigma(a)}{dx} =w^T *  \\frac{e^{-w^Tx}}{(1+e^{-w^Tx})^2}$$\n",
        "\n",
        "$$\\frac{d \\sigma(a)}{dx} =w^T *  \\frac{1}{1+e^{-w^Tx}} * \\frac{1 + e^{-w^Tx} - 1}{1+e^{-w^Tx}}$$\n",
        "\n",
        "$$\\frac{d \\sigma(a)}{dx} =w^T *  \\frac{1}{1+e^{-w^Tx}} * (1-\\frac{1}{1+e^{-w^Tx}}）$$\n",
        "\n",
        "$$\\frac{d \\sigma(a)}{dx} =w^T *  \\sigma(a) * (1-\\sigma(a)）$$"
      ]
    },
    {
      "cell_type": "markdown",
      "metadata": {
        "id": "D9wikdNZGoLe"
      },
      "source": [
        "**b.** For logistic regression with target variable $\\ y_i \\hspace{2pt} \\epsilon \\hspace{2 pt} \\{−1, 1\\}$, the posterior probability of the positive class is:$$\n",
        "            P(y = 1|x,w)=\\sigma(w^Tx) =\\frac{1}{1 - e^{-w^Tx}}\n",
        "        $$\n",
        "        where $\\ w,x \\in \\mathbb{R}^m $. Show that we can express the posterior for both classes as:\n",
        "        $$\n",
        "            P(y = \\pm 1|x,w)= \\sigma(yw^Tx)= \\frac{1}{1 - e^{-yw^Tx}}\n",
        "        $$"
      ]
    },
    {
      "cell_type": "markdown",
      "metadata": {
        "id": "57-vxzmZdlqF"
      },
      "source": [
        "**b.** Since $P(y = 1|x,w)=\\sigma(w^Tx) =\\frac{1}{1 - e^{-w^Tx}}$ and $y \\hspace{2 pt} \\epsilon \\hspace{2 pt} \\{−1, 1\\}$, so\n",
        "\n",
        "$$P(y = -1|x,w)= 1- P(y = 1|x,w)$$\n",
        "\n",
        "$$\\hspace{42 pt}=1-\\sigma(w^Tx)$$\n",
        "\n",
        "$$\\hspace{53 pt}= 1-\\frac{1}{1 - e^{-w^Tx}}$$\n",
        "\n",
        "$$\\hspace{91 pt} = \\frac{1 - e^{-w^Tx}}{1 - e^{-w^Tx}}-\\frac{1}{1 - e^{-w^Tx}}$$\n",
        "\n",
        "$$\\hspace{35 pt} = \\frac{-e^{-w^Tx}}{1 - e^{-w^Tx}}$$\n",
        "\n",
        "$$\\hspace{30 pt} = \\frac{1}{1 - e^{w^Tx}}$$\n",
        "\n",
        "then we get $P(y = -1|x,w) =\\sigma(-w^Tx)= \\frac{1}{1 - e^{w^Tx}}$ and $P(y = 1|x,w)=\\sigma(w^Tx) =\\frac{1}{1 - e^{-w^Tx}}$, \n",
        "\n",
        "so with $y \\hspace{2 pt} \\epsilon \\hspace{2 pt} \\{−1, 1\\}$ and $\\ w,x \\in \\mathbb{R}^m $ we can express the posterior probability for both classes as:\n",
        "\n",
        "$$\n",
        "            P(y = \\pm 1|x,w)= \\sigma(yw^Tx)= \\frac{1}{1 - e^{-yw^Tx}}\n",
        "        $$\n",
        "\n",
        "\n",
        "***********\n",
        "PS: I think the $P(y = 1|x,w)=\\sigma(w^Tx) =\\frac{1}{1 + e^{-w^Tx}}$ \n",
        "\n",
        "and $y \\hspace{2 pt} \\epsilon \\hspace{2 pt} \\{−1, 1\\}$, so in this case\n",
        "\n",
        "$$P(y = -1|x,w)= 1- P(y = 1|x,w)$$\n",
        "\n",
        "$$\\hspace{42 pt}=1-\\sigma(w^Tx)$$\n",
        "\n",
        "$$\\hspace{53 pt}= 1-\\frac{1}{1 + e^{-w^Tx}}$$\n",
        "\n",
        "$$\\hspace{91 pt} = \\frac{1 + e^{-w^Tx}}{1 + e^{-w^Tx}}-\\frac{1}{1 + e^{-w^Tx}}$$\n",
        "\n",
        "$$\\hspace{35 pt} = \\frac{e^{-w^Tx}}{1 + e^{-w^Tx}}$$\n",
        "\n",
        "$$\\hspace{30 pt} = \\frac{1}{1 + e^{w^Tx}}$$\n",
        "\n",
        "then we get $P(y = -1|x,w) =\\sigma(-w^Tx)= \\frac{1}{1 + e^{w^Tx}}$ and $P(y = 1|x,w)=\\sigma(w^Tx) =\\frac{1}{1 + e^{-w^Tx}}$, \n"
      ]
    },
    {
      "cell_type": "markdown",
      "metadata": {
        "id": "X0J7nyiHGoLe"
      },
      "source": [
        "**c.** Show that the loss function for logistic regression is:\n",
        "            $$\n",
        "            L_{log} = \\sum\\limits_{i=1}^N \\log(1 + e^{-y_iw^Tx_i})\n",
        "            $$\n",
        "        where, $x_i , w \\hspace{2 pt} \\epsilon \\hspace{2 pt} \\mathbb{R}^m \\hspace{2 pt}and\\hspace{2 pt} y_i \\hspace{2 pt}\\in \\hspace{2 pt} \\{\\pm 1\\}$.\n",
        "        \n",
        "We can see that the expression in the exponent i.e., $\\ y_iw^Tx_i $ is a product of the given training label $\\ y_i$ and the dot product of the weight vector with the input feature vector $\\ g(x_i, w) = w^Tx_i$. Please explain how the loss function behaves when the training label and dot product have the same sign (positive/negative) and when they differ."
      ]
    },
    {
      "cell_type": "markdown",
      "metadata": {
        "id": "vMr_dCT9tnJr"
      },
      "source": [
        "**c.** **For the derivation of the loss function:**\n",
        "\n",
        "Since we have \n",
        "\n",
        "$P(y = \\pm 1|x,w)= \\sigma(yw^Tx)= \\frac{1}{1 + e^{-yw^Tx}}$\n",
        "\n",
        "Assuming independence, the likelihood is:\n",
        "\n",
        "$L = \\displaystyle\\prod_{i=1}^{N} \\frac{1}{1+e^{-y_iw^Tx_i}} $\n",
        "\n",
        "So the log likelihood is :\n",
        "\n",
        "$log(L) = log1 - \\sum\\limits_{i=1}^N \\log(1 + e^{-y_iw^Tx_i}) $\n",
        "\n",
        "So the negative log likelihood, which the loss function is:\n",
        "\n",
        "$L_{log} = \\sum\\limits_{i=1}^N \\log(1 + e^{-y_iw^Tx_i}) $\n",
        "\n",
        "<br><br>\n",
        "**Loss function behavior:**\n",
        "\n",
        "Use $f(x_i, w, y_i) = y_iw^Tx_x$\n",
        "\n",
        "$L_{log} = \\sum\\limits_{i=1}^N \\log(1 + e^{-f(x_i, w, y_i)}) $\n",
        "\n",
        "Four cases:\n",
        "1. $y=1$ and $ g > 0$\n",
        "2. $y=1 $ and $ g< 0$\n",
        "3. $y=-1$ and $g > 0$\n",
        "4. $y=-1$ and $g > 0$\n",
        "<br><br>\n",
        "**Case 1:** $y=1$ and $w^Tx>0$, so $ f(x_i, w, y_i) > 0$\n",
        "\n",
        "For loss function $L_{log} = \\sum\\limits_{i=1}^N \\log(1 + e^{-y_iw^Tx_i}) $\n",
        "\n",
        "With the increase of the $w^Tx$, $f(xi,w,yi)$ monotonically increase, $L_{log}$ monotonically decrease, and $0=log(1+e^{-\\infty}) < L_{log} < log(2) $\n",
        "\n",
        "$L_{log}$ get closer to 0 when $w^Tx$ become bigger, and $L_{log}$ get closer to $log(2)$ when $w^Tx$ become smaller ($w^Tx > 0$  in this case and note that log(2) = 0.6931)\n",
        "<br><br>\n",
        "\n",
        "<br><br>\n",
        "**Case 2:** $y=1$ and $w^Tx< 0$, so $ f(x_i, w, y_i) < 0$\n",
        "\n",
        "For loss function $L_{log} = \\sum\\limits_{i=1}^N \\log(1 + e^{-y_iw^Tx_i}) $\n",
        "\n",
        "With the increase of the $w^Tx$, $f(xi,w,yi)$ monotonically increase, $L_{log}$ monotonically decrease, and $log(2)<  L_{log} < log(1+e^{\\infty})=\\infty $\n",
        "\n",
        "$L_{log}$ get closer to $log(2)$ when $w^Tx$ become bigger ($w^Tx < 0$  in this case), and $L_{log}$ increase to $\\infty$ when $w^Tx$ decrease to $-\\infty$ \n",
        "<br><br>\n",
        "\n",
        "<br><br>\n",
        "**Case 3:** $y=-1$ and $w^Tx>0 $, so $ f(x_i, w, y_i) < 0$\n",
        "\n",
        "For loss function $L_{log} = \\sum\\limits_{i=1}^N \\log(1 + e^{-y_iw^Tx_i}) $\n",
        "\n",
        "With the increase of the $w^Tx$, $f(xi,w,yi)$ monotonically decrease, $L_{log}$ monotonically increase, and $log(2)< L_{log} < log(1+e^{\\infty}) = \\infty $\n",
        "\n",
        "$L_{log}$ get closer to $log(2)$ when $w^Tx$ become smaller ($w^Tx > 0$  in this case), and $L_{log}$ increase to $\\infty$ when $w^Tx$ increase to $\\infty$ \n",
        "\n",
        "<br><br>\n",
        "**Case 4:** $y=-1$ and $w^Tx< 0 $, so $ f(x_i, w, y_i) > 0$\n",
        "\n",
        "For loss function $L_{log} = \\sum\\limits_{i=1}^N \\log(1 + e^{-y_iw^Tx_i}) $\n",
        "\n",
        "With the increase of the $w^Tx$, $f(xi,w,yi)$ monotonically decrease, $L_{log}$ monotonically increase, and $0<log(1+e^{-\\infty}) < L_{log} < log(2) $\n",
        "\n",
        "$L_{log}$ get closer to 0 when $w^Tx$ become smaller, and $L_{log}$ get closer to $log(2)$ when $w^Tx$ become bigger ($w^Tx < 0$  in this case)\n",
        "<br><br>\n",
        "##**Now we plot the four cases**"
      ]
    },
    {
      "cell_type": "code",
      "metadata": {
        "id": "MvLobCi9GoLe",
        "colab": {
          "base_uri": "https://localhost:8080/",
          "height": 768
        },
        "outputId": "13efc378-6a4a-4521-a5c6-f2f61ada27e6"
      },
      "source": [
        "fig, axs = plt.subplots(2, 2)\n",
        "plt.subplots_adjust(left=None, bottom=0.01, right=None, top=None, wspace=None, hspace=None)\n",
        "fig.suptitle('Loss function for four cases')\n",
        "fig.set_figheight(10)\n",
        "fig.set_figwidth(10)\n",
        "wTx_positive = np.linspace(0, 10, 200)\n",
        "wTx_negative = np.linspace(-10, 0, 200)\n",
        "logL_Positive_y_positive_wx = np.log(1+np.exp(-wTx_positive))\n",
        "logL_Positive_y_negative_wx = np.log(1+np.exp(-wTx_negative))\n",
        "logL_negative_y_positive_wx = np.log(1+np.exp(wTx_positive))\n",
        "logL_negative_y_negative_wx = np.log(1+np.exp(wTx_negative))\n",
        "axs[0,0].plot(wTx_positive, logL_Positive_y_positive_wx)\n",
        "axs[0,0].set_title('positive y and positive $w^Tx$')\n",
        "axs[0,1].plot(wTx_negative, logL_Positive_y_negative_wx)\n",
        "axs[0,1].set_title('positive y and negative $w^Tx$')\n",
        "axs[1,0].plot(wTx_positive, logL_negative_y_positive_wx)\n",
        "axs[1,0].set_title('negative y and positive $w^Tx$')\n",
        "axs[1,1].plot(wTx_negative, logL_negative_y_negative_wx)\n",
        "axs[1,1].set_title('negative y and negative $w^Tx$')\n",
        "for ax in axs.flat:\n",
        "    ax.set_xlabel('$w^Tx$', fontsize=15)\n",
        "    ax.set_ylabel('$L_{log}$', fontsize=15)\n"
      ],
      "execution_count": null,
      "outputs": [
        {
          "output_type": "display_data",
          "data": {
            "image/png": "[encoded data removed]",
            "text/plain": [
              "<Figure size 720x720 with 4 Axes>"
            ]
          },
          "metadata": {
            "tags": [],
            "needs_background": "light"
          }
        }
      ]
    },
    {
      "cell_type": "markdown",
      "metadata": {
        "id": "wGtRcxPqbWs2"
      },
      "source": [
        "We have $f(x_i, w, y_i) = y_iw^Tx_x$\n",
        " \n",
        "We can see that the plots shows the same as the calculation. \n",
        "\n",
        "For the cases they are both positive and negative, the costs are in range of $(0, log(2))$. When $f(x_i,w,y_i)$ is bigger, the cost is smaller. \n",
        "\n",
        "For the cases they are one positive and one negative, the costs are in range of $(0, \\infty)$.When $f(x_i,w,y_i)$ is bigger, the cost is smaller. \n",
        "\n",
        "We can reach to a conclusion that when $f(x_i,w,y_i)$ is bigger, the loss $L_{log}$ is smaller\n"
      ]
    }
  ]
}